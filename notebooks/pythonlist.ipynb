{
 "cells": [
  {
   "cell_type": "code",
   "execution_count": 2,
   "metadata": {},
   "outputs": [
    {
     "name": "stdout",
     "output_type": "stream",
     "text": [
      "[5, 2]\n"
     ]
    }
   ],
   "source": [
    "#find the common elements between two lists\n",
    "lst1=[1,5,2,3,6]\n",
    "lst2=[5,9,4,2,53]\n",
    "\n",
    "cmn_lst=[]\n",
    "for i in lst1:\n",
    "    if i in lst2 and i not in cmn_lst:\n",
    "        cmn_lst.append(i)\n",
    "print(cmn_lst)"
   ]
  },
  {
   "cell_type": "code",
   "execution_count": 3,
   "metadata": {},
   "outputs": [
    {
     "name": "stdout",
     "output_type": "stream",
     "text": [
      "[4, 8, 5, 9, 2, 3]\n"
     ]
    }
   ],
   "source": [
    "#remove duplicates from the list\n",
    "lst = [4,8,5,9,8,5,2,3,4]\n",
    "temp_lst = []\n",
    "for i in lst:\n",
    "    if i not in temp_lst:\n",
    "        temp_lst.append(i)\n",
    "lst=temp_lst\n",
    "print(lst)"
   ]
  }
 ],
 "metadata": {
  "kernelspec": {
   "display_name": "Python 3",
   "language": "python",
   "name": "python3"
  },
  "language_info": {
   "codemirror_mode": {
    "name": "ipython",
    "version": 3
   },
   "file_extension": ".py",
   "mimetype": "text/x-python",
   "name": "python",
   "nbconvert_exporter": "python",
   "pygments_lexer": "ipython3",
   "version": "3.10.13"
  }
 },
 "nbformat": 4,
 "nbformat_minor": 2
}
