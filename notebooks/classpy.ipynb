{
 "cells": [
  {
   "cell_type": "code",
   "execution_count": 11,
   "metadata": {},
   "outputs": [],
   "source": [
    "class SimpleClass:\n",
    "    pass\n",
    "myobj = SimpleClass()"
   ]
  },
  {
   "cell_type": "code",
   "execution_count": 10,
   "metadata": {},
   "outputs": [
    {
     "name": "stdout",
     "output_type": "stream",
     "text": [
      "Student IT1002  profile: name James Peter Course: IT\n"
     ]
    }
   ],
   "source": [
    "class Student:\n",
    "    def __init__(self,id,nm,crs):\n",
    "      self.id=id\n",
    "      self.name=nm\n",
    "      self.course=crs\n",
    " \n",
    "    def profile(self):\n",
    "       print(\"Student\",self.id,\" profile: name\",self.name,\"Course:\",self.course)\n",
    " \n",
    "peter = Student('IT1002','James Peter','IT')\n",
    "peter.profile()"
   ]
  },
  {
   "cell_type": "code",
   "execution_count": 8,
   "metadata": {},
   "outputs": [
    {
     "name": "stdout",
     "output_type": "stream",
     "text": [
      "Student IT1002  profile: name James Peter Course: IT\n",
      "Student IT2305  profile: name James Peter Course: IT\n"
     ]
    }
   ],
   "source": [
    "#using get and set\n",
    "class Student:\n",
    "    def __init__(self,id,nm,crs):\n",
    "      self.__id=id\n",
    "      self.__name=nm\n",
    "      self.__course=crs\n",
    " \n",
    "    def getId(self,id):\n",
    "       self.__id=id\n",
    " \n",
    "    def setId(self,id):\n",
    "       self.__id=id\n",
    " \n",
    "    def profile(self):\n",
    "       print(\"Student\",self.__id,\" profile: name\",self.__name,\"Course:\",self.__course)\n",
    " \n",
    "peter = Student('IT1002','James Peter','IT')\n",
    "peter.profile()\n",
    "peter.setId('IT2305')\n",
    "peter.profile()"
   ]
  },
  {
   "cell_type": "code",
   "execution_count": 7,
   "metadata": {},
   "outputs": [
    {
     "name": "stdout",
     "output_type": "stream",
     "text": [
      "[10, 1, 30, 5]\n",
      "[10, 1]\n",
      "['A', 'B', 'C']\n"
     ]
    }
   ],
   "source": [
    "#Stack\n",
    "class Stack:\n",
    "    def __init__(self):\n",
    "        self.__mystack=[]\n",
    " \n",
    "    def push(self,ele):\n",
    "        self.__mystack.append(ele)\n",
    " \n",
    "    def pop(self):\n",
    "        lstEle = self.__mystack[-1]\n",
    "        del self.__mystack[-1]\n",
    "        return lstEle\n",
    " \n",
    "    def printStack(self):\n",
    "        print(self.__mystack)\n",
    " \n",
    "stack1 = Stack()\n",
    "stack1.push(10)\n",
    "stack1.push(1)\n",
    "stack1.push(30)\n",
    "stack1.push(5)\n",
    "stack1.printStack()\n",
    "stack1.pop()\n",
    "stack1.pop()\n",
    "stack1.printStack()\n",
    " \n",
    "stackStr = Stack()\n",
    "stackStr.push('A')\n",
    "stackStr.push('B')\n",
    "stackStr.push('C')\n",
    "stackStr.printStack()"
   ]
  },
  {
   "cell_type": "code",
   "execution_count": 6,
   "metadata": {},
   "outputs": [
    {
     "name": "stdout",
     "output_type": "stream",
     "text": [
      "My name is  Jimy\n",
      "Woof !\n",
      "My name is  Dane\n",
      "Meow !\n"
     ]
    }
   ],
   "source": [
    "class Animal:\n",
    "    def __init__(self,name):\n",
    "        self.__name=name\n",
    "        print(\"My name is \",self.__name)\n",
    " \n",
    "    def make_sound(self):\n",
    "        pass\n",
    " \n",
    "class Dog(Animal):\n",
    "    def make_sound(self):\n",
    "        print('Woof !')\n",
    " \n",
    "class Cat(Animal):\n",
    "    def make_sound(self):\n",
    "        print('Meow !')\n",
    " \n",
    "dog = Dog('Jimy')\n",
    "dog.make_sound()\n",
    "cat = Cat('Dane')\n",
    "cat.make_sound()"
   ]
  }
 ],
 "metadata": {
  "kernelspec": {
   "display_name": "Python 3",
   "language": "python",
   "name": "python3"
  },
  "language_info": {
   "codemirror_mode": {
    "name": "ipython",
    "version": 3
   },
   "file_extension": ".py",
   "mimetype": "text/x-python",
   "name": "python",
   "nbconvert_exporter": "python",
   "pygments_lexer": "ipython3",
   "version": "3.10.13"
  }
 },
 "nbformat": 4,
 "nbformat_minor": 2
}
