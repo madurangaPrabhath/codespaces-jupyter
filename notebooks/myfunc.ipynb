{
 "cells": [
  {
   "cell_type": "code",
   "execution_count": 21,
   "metadata": {},
   "outputs": [
    {
     "name": "stdout",
     "output_type": "stream",
     "text": [
      "Hello world!\n"
     ]
    }
   ],
   "source": [
    "#Function\n",
    "def printMsg(): #define\n",
    "    print(\"Hello world!\")\n",
    "printMsg()"
   ]
  },
  {
   "cell_type": "code",
   "execution_count": 22,
   "metadata": {},
   "outputs": [
    {
     "name": "stdout",
     "output_type": "stream",
     "text": [
      "The message is : Django workshop\n"
     ]
    }
   ],
   "source": [
    "def myMessage(msg):\n",
    "    print(\"The message is :\",msg)\n",
    "\n",
    "myMessage('Django workshop')"
   ]
  },
  {
   "cell_type": "code",
   "execution_count": 23,
   "metadata": {},
   "outputs": [
    {
     "name": "stdout",
     "output_type": "stream",
     "text": [
      "Gemini\n",
      "IT\n"
     ]
    }
   ],
   "source": [
    "def message(name):\n",
    "    print(name)\n",
    "\n",
    "name = 'IT'\n",
    "message('Gemini')\n",
    "print(name)"
   ]
  },
  {
   "cell_type": "code",
   "execution_count": 24,
   "metadata": {},
   "outputs": [
    {
     "name": "stdout",
     "output_type": "stream",
     "text": [
      "4 6 8\n",
      "8 4 6\n",
      "4 8 6\n",
      "4 6 8\n"
     ]
    }
   ],
   "source": [
    "def myNumbers(a,b,c):\n",
    "    print(a,b,c)\n",
    "\n",
    "myNumbers(4,6,8)\n",
    "myNumbers(b=4,c=6,a=8)\n",
    "myNumbers(4,c=6,b=8)\n",
    "#myNumbers(4,6,b=8) this is an error\n",
    "myNumbers(4,6,c=8)"
   ]
  },
  {
   "cell_type": "code",
   "execution_count": 25,
   "metadata": {},
   "outputs": [
    {
     "name": "stdout",
     "output_type": "stream",
     "text": [
      "7\n"
     ]
    }
   ],
   "source": [
    "def sum(a,b):\n",
    "    return a+b\n",
    "\n",
    "print(sum(4,3))"
   ]
  },
  {
   "cell_type": "code",
   "execution_count": 26,
   "metadata": {},
   "outputs": [
    {
     "name": "stdout",
     "output_type": "stream",
     "text": [
      "Hi\n",
      "Python\n"
     ]
    }
   ],
   "source": [
    "def default_prnt(a='Hi'):\n",
    "    print(a)\n",
    "\n",
    "default_prnt()\n",
    "default_prnt('Python')"
   ]
  },
  {
   "cell_type": "code",
   "execution_count": 27,
   "metadata": {},
   "outputs": [
    {
     "name": "stdout",
     "output_type": "stream",
     "text": [
      "Five\n",
      "Four\n",
      "Three\n"
     ]
    }
   ],
   "source": [
    "def count_down():\n",
    "    print('Five')\n",
    "    print('Four')\n",
    "    print('Three')\n",
    "    return\n",
    "    print('Two')\n",
    "    print('One')\n",
    "\n",
    "count_down()"
   ]
  },
  {
   "cell_type": "code",
   "execution_count": 28,
   "metadata": {},
   "outputs": [
    {
     "name": "stdout",
     "output_type": "stream",
     "text": [
      "4 * 5 = 20\n",
      "20\n",
      "4 * 8 = 32\n",
      "32\n"
     ]
    }
   ],
   "source": [
    "def mult(a,b):\n",
    "    print(a,'*',b,'=',a*b)\n",
    "    return a*b\n",
    "\n",
    "num = mult(4,5)\n",
    "print(num)\n",
    "print(mult(4,8))"
   ]
  },
  {
   "cell_type": "code",
   "execution_count": 29,
   "metadata": {},
   "outputs": [
    {
     "name": "stdout",
     "output_type": "stream",
     "text": [
      "True\n",
      "None\n"
     ]
    }
   ],
   "source": [
    "def find_odd(n):\n",
    "    if n%2 == 1:\n",
    "        return True\n",
    "    \n",
    "print(find_odd(7))\n",
    "print(find_odd(10))"
   ]
  },
  {
   "cell_type": "code",
   "execution_count": 31,
   "metadata": {},
   "outputs": [
    {
     "name": "stdout",
     "output_type": "stream",
     "text": [
      "Enter your name\n",
      "Enter your age\n",
      "Enter your GPA\n",
      "Mad 25 3.0\n"
     ]
    }
   ],
   "source": [
    "print(\"Enter your name\")\n",
    "name = input()\n",
    "print(\"Enter your age\")\n",
    "age = int(input())\n",
    "print(\"Enter your GPA\")\n",
    "gpa = float(input())\n",
    "\n",
    "print(name,age,gpa)"
   ]
  }
 ],
 "metadata": {
  "kernelspec": {
   "display_name": "Python 3",
   "language": "python",
   "name": "python3"
  },
  "language_info": {
   "codemirror_mode": {
    "name": "ipython",
    "version": 3
   },
   "file_extension": ".py",
   "mimetype": "text/x-python",
   "name": "python",
   "nbconvert_exporter": "python",
   "pygments_lexer": "ipython3",
   "version": "3.10.13"
  }
 },
 "nbformat": 4,
 "nbformat_minor": 2
}
