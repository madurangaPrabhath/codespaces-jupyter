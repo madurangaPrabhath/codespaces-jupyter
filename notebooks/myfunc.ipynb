{
 "cells": [
  {
   "cell_type": "code",
   "execution_count": 7,
   "metadata": {},
   "outputs": [
    {
     "name": "stdout",
     "output_type": "stream",
     "text": [
      "Hello world!\n"
     ]
    }
   ],
   "source": [
    "#Function\n",
    "def printMsg(): #define\n",
    "    print(\"Hello world!\")\n",
    "printMsg()"
   ]
  },
  {
   "cell_type": "code",
   "execution_count": 3,
   "metadata": {},
   "outputs": [
    {
     "name": "stdout",
     "output_type": "stream",
     "text": [
      "The message is : Django workshop\n"
     ]
    }
   ],
   "source": [
    "def myMessage(msg):\n",
    "    print(\"The message is :\",msg)\n",
    "\n",
    "myMessage('Django workshop')"
   ]
  },
  {
   "cell_type": "code",
   "execution_count": 6,
   "metadata": {},
   "outputs": [
    {
     "name": "stdout",
     "output_type": "stream",
     "text": [
      "Gemini\n",
      "IT\n"
     ]
    }
   ],
   "source": [
    "def message(name):\n",
    "    print(name)\n",
    "\n",
    "name = 'IT'\n",
    "message('Gemini')\n",
    "print(name)"
   ]
  },
  {
   "cell_type": "code",
   "execution_count": 13,
   "metadata": {},
   "outputs": [
    {
     "name": "stdout",
     "output_type": "stream",
     "text": [
      "4 6 8\n",
      "8 4 6\n",
      "4 8 6\n",
      "4 6 8\n"
     ]
    }
   ],
   "source": [
    "def myNumbers(a,b,c):\n",
    "    print(a,b,c)\n",
    "\n",
    "myNumbers(4,6,8)\n",
    "myNumbers(b=4,c=6,a=8)\n",
    "myNumbers(4,c=6,b=8)\n",
    "#myNumbers(4,6,b=8) this is an error\n",
    "myNumbers(4,6,c=8)"
   ]
  },
  {
   "cell_type": "code",
   "execution_count": null,
   "metadata": {},
   "outputs": [],
   "source": []
  }
 ],
 "metadata": {
  "kernelspec": {
   "display_name": "Python 3",
   "language": "python",
   "name": "python3"
  },
  "language_info": {
   "codemirror_mode": {
    "name": "ipython",
    "version": 3
   },
   "file_extension": ".py",
   "mimetype": "text/x-python",
   "name": "python",
   "nbconvert_exporter": "python",
   "pygments_lexer": "ipython3",
   "version": "3.10.13"
  }
 },
 "nbformat": 4,
 "nbformat_minor": 2
}
